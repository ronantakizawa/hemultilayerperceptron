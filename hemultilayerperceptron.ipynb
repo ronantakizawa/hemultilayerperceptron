{
  "cells": [
    {
      "cell_type": "markdown",
      "id": "f564d30d",
      "metadata": {
        "id": "f564d30d"
      },
      "source": [
        "# Simple Perceptron Model with Homomorphic Encryption\n"
      ]
    },
    {
      "cell_type": "markdown",
      "source": [
        "# Build Perceptron (Without Encryption)"
      ],
      "metadata": {
        "id": "oofVQdf58inF"
      },
      "id": "oofVQdf58inF"
    },
    {
      "cell_type": "code",
      "execution_count": 1,
      "id": "b90afb3a",
      "metadata": {
        "id": "b90afb3a"
      },
      "outputs": [],
      "source": [
        "import numpy as np\n",
        "from sklearn.model_selection import train_test_split\n",
        "from sklearn import datasets\n",
        "from sklearn.preprocessing import StandardScaler"
      ]
    },
    {
      "cell_type": "markdown",
      "id": "28fd92f3",
      "metadata": {
        "id": "28fd92f3"
      },
      "source": [
        "## Define the Perceptron Model\n",
        "We start by defining the Perceptron class, which includes initializing weights, forward pass, and weight update methods."
      ]
    },
    {
      "cell_type": "code",
      "execution_count": 2,
      "id": "81241f2c",
      "metadata": {
        "id": "81241f2c"
      },
      "outputs": [],
      "source": [
        "class Perceptron:\n",
        "    def __init__(self, learning_rate=0.1, n_iters=1000):\n",
        "        self.lr = learning_rate\n",
        "        self.n_iters = n_iters\n",
        "        self.activation_func = self._unit_step_func\n",
        "        self.weights = None\n",
        "        self.bias = None\n",
        "\n",
        "    def fit(self, X, y):\n",
        "        n_samples, n_features = X.shape\n",
        "        self.weights = np.zeros(n_features)\n",
        "        self.bias = 0\n",
        "        for _ in range(self.n_iters):\n",
        "            for idx, x_i in enumerate(X):\n",
        "                linear_output = np.dot(x_i, self.weights) + self.bias\n",
        "                y_predicted = self.activation_func(linear_output)\n",
        "                update = self.lr * (y[idx] - y_predicted)\n",
        "                self.weights += update * x_i\n",
        "                self.bias += update\n",
        "\n",
        "    def predict(self, X):\n",
        "        linear_output = np.dot(X, self.weights) + self.bias\n",
        "        y_predicted = self.activation_func(linear_output)\n",
        "        return y_predicted\n",
        "\n",
        "    def _unit_step_func(self, x):\n",
        "        return np.where(x > 0, 1, 0)\n"
      ]
    },
    {
      "cell_type": "code",
      "source": [
        "class OneVsRestClassifier:\n",
        "    def __init__(self, classifier, *args, **kwargs):\n",
        "        self.classifier = classifier\n",
        "        self.args = args\n",
        "        self.kwargs = kwargs\n",
        "        self.classifiers = []\n",
        "\n",
        "    def fit(self, X, y):\n",
        "        self.unique_classes = np.unique(y)\n",
        "        for i in self.unique_classes:\n",
        "            y_binary = (y == i).astype(int)\n",
        "            clf = self.classifier(*self.args, **self.kwargs)\n",
        "            clf.fit(X, y_binary)\n",
        "            self.classifiers.append(clf)\n",
        "        return self\n",
        "\n",
        "    def predict(self, X):\n",
        "        predictions = np.array([clf.predict(X) for clf in self.classifiers]).T\n",
        "        return np.argmax(predictions, axis=1)"
      ],
      "metadata": {
        "id": "iiVOHcCJ8h5w"
      },
      "id": "iiVOHcCJ8h5w",
      "execution_count": 3,
      "outputs": []
    },
    {
      "cell_type": "markdown",
      "id": "411ee5f5",
      "metadata": {
        "id": "411ee5f5"
      },
      "source": [
        "## Load Iris Dataset"
      ]
    },
    {
      "cell_type": "code",
      "execution_count": 4,
      "id": "7f45e803",
      "metadata": {
        "id": "7f45e803"
      },
      "outputs": [],
      "source": [
        "iris = datasets.load_iris()\n",
        "x = iris.data\n",
        "y = iris.target\n"
      ]
    },
    {
      "cell_type": "code",
      "source": [
        "x_train, x_test, y_train, y_test = train_test_split(x, y, test_size=0.25, random_state=42)"
      ],
      "metadata": {
        "id": "jfIpyeksi9__"
      },
      "id": "jfIpyeksi9__",
      "execution_count": 13,
      "outputs": []
    },
    {
      "cell_type": "code",
      "source": [
        "scaler = StandardScaler()\n",
        "x_train = scaler.fit_transform(x_train)\n",
        "x_test = scaler.transform(x_test)"
      ],
      "metadata": {
        "id": "UA3GR5d68sPt"
      },
      "id": "UA3GR5d68sPt",
      "execution_count": 17,
      "outputs": []
    },
    {
      "cell_type": "markdown",
      "id": "8615340f",
      "metadata": {
        "id": "8615340f"
      },
      "source": [
        "## Train the Perceptron"
      ]
    },
    {
      "cell_type": "code",
      "execution_count": 18,
      "id": "2af26077",
      "metadata": {
        "id": "2af26077",
        "colab": {
          "base_uri": "https://localhost:8080/"
        },
        "outputId": "2ba82038-abd2-450e-8cfe-b21ec593e8fa"
      },
      "outputs": [
        {
          "output_type": "execute_result",
          "data": {
            "text/plain": [
              "<__main__.OneVsRestClassifier at 0x7cc9b3ebada0>"
            ]
          },
          "metadata": {},
          "execution_count": 18
        }
      ],
      "source": [
        "p = OneVsRestClassifier(Perceptron,learning_rate=0.01, n_iters=100)\n",
        "p.fit(x_train, y_train)\n"
      ]
    },
    {
      "cell_type": "markdown",
      "id": "b8b50b3c",
      "metadata": {
        "id": "b8b50b3c"
      },
      "source": [
        "## Evaluate the Model\n",
        "We can now test the trained model with the test dataset."
      ]
    },
    {
      "cell_type": "code",
      "execution_count": 19,
      "id": "27cec743",
      "metadata": {
        "colab": {
          "base_uri": "https://localhost:8080/"
        },
        "id": "27cec743",
        "outputId": "3c79bdf3-51d0-41e5-cf73-2c38b81df06d"
      },
      "outputs": [
        {
          "output_type": "stream",
          "name": "stdout",
          "text": [
            "Model predictions: [1 0 2 0 1 0 0 2 1 0 2 0 0 0 0 0 2 1 1 2 0 2 0 2 2 2 1 2 0 0 0 0 0 0 0 2 0\n",
            " 0]\n",
            "Actual labels: [1 0 2 1 1 0 1 2 1 1 2 0 0 0 0 1 2 1 1 2 0 2 0 2 2 2 2 2 0 0 0 0 1 0 0 2 1\n",
            " 0]\n"
          ]
        }
      ],
      "source": [
        "predictions = p.predict(x_test)\n",
        "print(\"Model predictions:\", predictions)\n",
        "print(\"Actual labels:\", y_test)\n"
      ]
    },
    {
      "cell_type": "code",
      "source": [
        "# Calculate accuracy\n",
        "accuracy = np.mean(predictions == y_test)\n",
        "print(f\"Model accuracy: {accuracy * 100:.2f}%\")"
      ],
      "metadata": {
        "colab": {
          "base_uri": "https://localhost:8080/"
        },
        "id": "jJa2b5Q95ehU",
        "outputId": "e8047993-ffb1-4595-cfd7-ecb3b19cb1bf"
      },
      "id": "jJa2b5Q95ehU",
      "execution_count": 20,
      "outputs": [
        {
          "output_type": "stream",
          "name": "stdout",
          "text": [
            "Model accuracy: 81.58%\n"
          ]
        }
      ]
    },
    {
      "cell_type": "markdown",
      "source": [],
      "metadata": {
        "id": "tu8pcnFn8rVK"
      },
      "id": "tu8pcnFn8rVK"
    },
    {
      "cell_type": "markdown",
      "source": [
        "# Build Perceptron (With Encryption)"
      ],
      "metadata": {
        "id": "sLF7lkVk8twR"
      },
      "id": "sLF7lkVk8twR"
    },
    {
      "cell_type": "code",
      "source": [
        "pip install tenseal"
      ],
      "metadata": {
        "colab": {
          "base_uri": "https://localhost:8080/"
        },
        "id": "Lj5mRgb_8Zu1",
        "outputId": "6158c784-730f-4ec0-e849-5ca0ed90e913"
      },
      "id": "Lj5mRgb_8Zu1",
      "execution_count": 21,
      "outputs": [
        {
          "output_type": "stream",
          "name": "stdout",
          "text": [
            "Collecting tenseal\n",
            "  Downloading tenseal-0.3.14-cp310-cp310-manylinux_2_17_x86_64.manylinux2014_x86_64.whl (4.9 MB)\n",
            "\u001b[2K     \u001b[90m━━━━━━━━━━━━━━━━━━━━━━━━━━━━━━━━━━━━━━━━\u001b[0m \u001b[32m4.9/4.9 MB\u001b[0m \u001b[31m35.6 MB/s\u001b[0m eta \u001b[36m0:00:00\u001b[0m\n",
            "\u001b[?25hInstalling collected packages: tenseal\n",
            "Successfully installed tenseal-0.3.14\n"
          ]
        }
      ]
    },
    {
      "cell_type": "code",
      "source": [
        "# Generate a context for the CKKS scheme\n",
        "import tenseal as ts\n",
        "context = ts.context(ts.SCHEME_TYPE.CKKS, poly_modulus_degree=8192, coeff_mod_bit_sizes=[60, 40, 40, 60])\n",
        "context.global_scale = 2**40\n",
        "context.generate_galois_keys()"
      ],
      "metadata": {
        "id": "4eGleYuF88f0"
      },
      "id": "4eGleYuF88f0",
      "execution_count": 70,
      "outputs": []
    },
    {
      "cell_type": "code",
      "source": [
        "class EncryptedPerceptron:\n",
        "    def __init__(self, context, learning_rate=0.1, n_iters=1000, n_features=None):\n",
        "        self.context = context\n",
        "        self.lr = learning_rate\n",
        "        self.n_iters = n_iters\n",
        "        self.n_features = n_features\n",
        "        self.activation_func = self._unit_step_func\n",
        "        self.weights = np.zeros(n_features)  # Plaintext weights\n",
        "        self.bias = 0  # Plaintext bias\n",
        "\n",
        "    def fit(self, X, y):\n",
        "        y_ = np.array([1 if i > 0 else 0 for i in y])\n",
        "        for _ in range(self.n_iters):\n",
        "            for idx, encrypted_x_i in enumerate(X):\n",
        "                # Encrypted dot product with plaintext weights converted temporarily to encrypted vector\n",
        "                enc_weights = ts.ckks_vector(self.context, self.weights.tolist())\n",
        "                encrypted_linear_output = encrypted_x_i.dot(enc_weights) + self.bias\n",
        "\n",
        "                # Decrypt only for activation to compare with label\n",
        "                linear_output = encrypted_linear_output.decrypt()\n",
        "                y_predicted = self.activation_func(linear_output)\n",
        "\n",
        "                # Compute update in plaintext due to the need to use the result in non-linear functions and update rules\n",
        "                update = self.lr * (y_[idx] - y_predicted)\n",
        "\n",
        "                # Encrypt update to perform encrypted computation\n",
        "                enc_update = ts.ckks_vector(self.context, [update] * self.n_features)  # replicate update to match feature vector size\n",
        "\n",
        "                # Encrypted element-wise update\n",
        "                enc_update_vector = encrypted_x_i * enc_update\n",
        "                update_vector = enc_update_vector.decrypt()  # decrypt to update weights in plaintext\n",
        "\n",
        "                # Update weights and bias directly in plaintext\n",
        "                self.weights += update_vector\n",
        "                self.bias += update\n",
        "\n",
        "    def predict(self, X):\n",
        "        results = []\n",
        "        for encrypted_x_i in X:\n",
        "            # Predict using encrypted input and plaintext weights converted to encrypted vector\n",
        "            enc_weights = ts.ckks_vector(self.context, self.weights.tolist())\n",
        "            encrypted_linear_output = encrypted_x_i.dot(enc_weights) + self.bias\n",
        "            linear_output = encrypted_linear_output.decrypt()  # Decrypt to apply activation\n",
        "            y_predicted = self.activation_func(linear_output)\n",
        "            results.append(y_predicted)\n",
        "        return results\n",
        "\n",
        "    def _unit_step_func(self, x):\n",
        "        return 1 if sum(x) > 0 else 0\n"
      ],
      "metadata": {
        "id": "l5OniuXN9Bmt"
      },
      "id": "l5OniuXN9Bmt",
      "execution_count": 71,
      "outputs": []
    },
    {
      "cell_type": "code",
      "source": [
        "class EncryptedOneVsRestClassifier:\n",
        "    def __init__(self, context, classifier, learning_rate=0.1, n_iters=1000, n_features=None):\n",
        "        self.context = context\n",
        "        self.classifier = classifier\n",
        "        self.learning_rate = learning_rate\n",
        "        self.n_iters = n_iters\n",
        "        self.n_features = n_features\n",
        "        self.classifiers = []\n",
        "\n",
        "    def fit(self, X, y):\n",
        "        self.unique_classes = np.unique(y)\n",
        "        for i in self.unique_classes:\n",
        "            y_binary = np.array([1 if label == i else 0 for label in y])\n",
        "            clf = self.classifier(self.context, self.learning_rate, self.n_iters, self.n_features)\n",
        "            clf.fit(X, y_binary)  # X is assumed to be already a list of encrypted vectors\n",
        "            self.classifiers.append(clf)\n",
        "        return self\n",
        "\n",
        "    def predict(self, X):\n",
        "        predictions = np.array([clf.predict(X) for clf in self.classifiers]).T\n",
        "        return np.argmax(predictions, axis=1)"
      ],
      "metadata": {
        "id": "xrFYchvh9amj"
      },
      "id": "xrFYchvh9amj",
      "execution_count": 72,
      "outputs": []
    },
    {
      "cell_type": "code",
      "source": [
        "x_train_encrypted = [ts.ckks_vector(context, x) for x in x_train]\n",
        "x_test_encrypted = [ts.ckks_vector(context, x) for x in x_test]"
      ],
      "metadata": {
        "id": "7IMSvCOW9f3_"
      },
      "id": "7IMSvCOW9f3_",
      "execution_count": 73,
      "outputs": []
    },
    {
      "cell_type": "code",
      "source": [
        "p = EncryptedOneVsRestClassifier(context, EncryptedPerceptron,learning_rate=0.1, n_iters=100, n_features=4)\n",
        "p.fit(x_train_encrypted, y_train)\n",
        "#Takes about 15 minutes to train"
      ],
      "metadata": {
        "id": "jBFZy3pr-J6e",
        "colab": {
          "base_uri": "https://localhost:8080/"
        },
        "outputId": "eed6ff0c-2b57-4029-8c69-d1abb489221e"
      },
      "id": "jBFZy3pr-J6e",
      "execution_count": 74,
      "outputs": [
        {
          "output_type": "execute_result",
          "data": {
            "text/plain": [
              "<__main__.EncryptedOneVsRestClassifier at 0x7cc9b33744f0>"
            ]
          },
          "metadata": {},
          "execution_count": 74
        }
      ]
    },
    {
      "cell_type": "code",
      "source": [
        "predictions = p.predict(x_test_encrypted)\n",
        "print(\"Model predictions:\", predictions)\n",
        "print(\"Actual labels:\", y_test)"
      ],
      "metadata": {
        "colab": {
          "base_uri": "https://localhost:8080/"
        },
        "id": "bV6tUQCG-T9s",
        "outputId": "c3264c0f-9701-4964-f9aa-db4211149025"
      },
      "id": "bV6tUQCG-T9s",
      "execution_count": 75,
      "outputs": [
        {
          "output_type": "stream",
          "name": "stdout",
          "text": [
            "Model predictions: [1 0 2 0 1 0 0 2 1 0 2 0 0 0 0 0 2 1 1 2 0 2 0 2 2 2 1 2 0 0 0 0 0 0 0 2 0\n",
            " 0]\n",
            "Actual labels: [1 0 2 1 1 0 1 2 1 1 2 0 0 0 0 1 2 1 1 2 0 2 0 2 2 2 2 2 0 0 0 0 1 0 0 2 1\n",
            " 0]\n"
          ]
        }
      ]
    },
    {
      "cell_type": "code",
      "source": [
        "# Calculate accuracy\n",
        "accuracy = np.mean(predictions == y_test)\n",
        "print(f\"Model accuracy: {accuracy * 100:.2f}%\")"
      ],
      "metadata": {
        "colab": {
          "base_uri": "https://localhost:8080/"
        },
        "id": "kCsUhlpe_09w",
        "outputId": "44825824-b4ce-4b0e-ee50-14a25586f576"
      },
      "id": "kCsUhlpe_09w",
      "execution_count": 76,
      "outputs": [
        {
          "output_type": "stream",
          "name": "stdout",
          "text": [
            "Model accuracy: 81.58%\n"
          ]
        }
      ]
    }
  ],
  "metadata": {
    "colab": {
      "provenance": []
    },
    "language_info": {
      "name": "python"
    },
    "kernelspec": {
      "name": "python3",
      "display_name": "Python 3"
    }
  },
  "nbformat": 4,
  "nbformat_minor": 5
}